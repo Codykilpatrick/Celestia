{
 "cells": [
  {
   "cell_type": "code",
   "execution_count": 254,
   "id": "807f8433-47a5-40aa-a428-92c82d1dabfc",
   "metadata": {},
   "outputs": [],
   "source": [
    "import numpy as np\n",
    "import pandas as pd"
   ]
  },
  {
   "cell_type": "code",
   "execution_count": 255,
   "id": "fef1c7f9",
   "metadata": {},
   "outputs": [],
   "source": [
    "data = pd.read_csv('../data/punisher_domain.csv')"
   ]
  },
  {
   "cell_type": "code",
   "execution_count": 256,
   "id": "b33600d2",
   "metadata": {},
   "outputs": [
    {
     "data": {
      "text/html": [
       "<div>\n",
       "<style scoped>\n",
       "    .dataframe tbody tr th:only-of-type {\n",
       "        vertical-align: middle;\n",
       "    }\n",
       "\n",
       "    .dataframe tbody tr th {\n",
       "        vertical-align: top;\n",
       "    }\n",
       "\n",
       "    .dataframe thead th {\n",
       "        text-align: right;\n",
       "    }\n",
       "</style>\n",
       "<table border=\"1\" class=\"dataframe\">\n",
       "  <thead>\n",
       "    <tr style=\"text-align: right;\">\n",
       "      <th></th>\n",
       "      <th>average</th>\n",
       "      <th>date</th>\n",
       "      <th>highest</th>\n",
       "      <th>lowest</th>\n",
       "      <th>order_count</th>\n",
       "      <th>volume</th>\n",
       "    </tr>\n",
       "  </thead>\n",
       "  <tbody>\n",
       "    <tr>\n",
       "      <th>0</th>\n",
       "      <td>255300.00</td>\n",
       "      <td>2022-07-01</td>\n",
       "      <td>256550</td>\n",
       "      <td>253100</td>\n",
       "      <td>115</td>\n",
       "      <td>195</td>\n",
       "    </tr>\n",
       "    <tr>\n",
       "      <th>1</th>\n",
       "      <td>275000.00</td>\n",
       "      <td>2022-07-02</td>\n",
       "      <td>335000</td>\n",
       "      <td>245900</td>\n",
       "      <td>101</td>\n",
       "      <td>138</td>\n",
       "    </tr>\n",
       "    <tr>\n",
       "      <th>2</th>\n",
       "      <td>332450.00</td>\n",
       "      <td>2022-07-03</td>\n",
       "      <td>365000</td>\n",
       "      <td>243100</td>\n",
       "      <td>103</td>\n",
       "      <td>158</td>\n",
       "    </tr>\n",
       "    <tr>\n",
       "      <th>3</th>\n",
       "      <td>250150.00</td>\n",
       "      <td>2022-07-04</td>\n",
       "      <td>367350</td>\n",
       "      <td>90030</td>\n",
       "      <td>90</td>\n",
       "      <td>112</td>\n",
       "    </tr>\n",
       "    <tr>\n",
       "      <th>4</th>\n",
       "      <td>249161.92</td>\n",
       "      <td>2022-07-05</td>\n",
       "      <td>325000</td>\n",
       "      <td>230300</td>\n",
       "      <td>73</td>\n",
       "      <td>73</td>\n",
       "    </tr>\n",
       "  </tbody>\n",
       "</table>\n",
       "</div>"
      ],
      "text/plain": [
       "     average        date  highest  lowest  order_count  volume\n",
       "0  255300.00  2022-07-01   256550  253100          115     195\n",
       "1  275000.00  2022-07-02   335000  245900          101     138\n",
       "2  332450.00  2022-07-03   365000  243100          103     158\n",
       "3  250150.00  2022-07-04   367350   90030           90     112\n",
       "4  249161.92  2022-07-05   325000  230300           73      73"
      ]
     },
     "execution_count": 256,
     "metadata": {},
     "output_type": "execute_result"
    }
   ],
   "source": [
    "data.head()"
   ]
  },
  {
   "cell_type": "code",
   "execution_count": 257,
   "id": "9cfbbd20",
   "metadata": {},
   "outputs": [],
   "source": [
    "# Change the index to the date column since we are doing time series predictions\n",
    "data = data.set_index('date')\n"
   ]
  },
  {
   "cell_type": "code",
   "execution_count": 258,
   "id": "3607a02c",
   "metadata": {},
   "outputs": [],
   "source": [
    "# Plot out each of our values to try and find a stable one to predict decided on average\n",
    "# Comment in the graphs\n",
    "# data.plot.line(y=\"average\", use_index=True)\n",
    "# data.plot.line(y=\"lowest\", use_index=True)\n",
    "# data.plot.line(y=\"highest\", use_index=True)"
   ]
  },
  {
   "cell_type": "code",
   "execution_count": 259,
   "id": "9cd63731",
   "metadata": {},
   "outputs": [],
   "source": [
    "# Create our tomrrow column from our historic data\n",
    "data[\"tomorrow\"] = data[\"average\"].shift(-1)"
   ]
  },
  {
   "cell_type": "code",
   "execution_count": 260,
   "id": "f4c14e96",
   "metadata": {},
   "outputs": [
    {
     "data": {
      "text/plain": [
       "average  highest  lowest  order_count  volume  tomorrow  target  movement\n",
       "False    False    False   False        False   False     False   False       403\n",
       "Name: count, dtype: int64"
      ]
     },
     "execution_count": 260,
     "metadata": {},
     "output_type": "execute_result"
    }
   ],
   "source": [
    "# Create our target column for our ML that just determines if the average will increase or decrease\n",
    "data[\"target\"] = (data[\"tomorrow\"] > data[\"average\"]).astype(int)\n",
    "data.loc[data[\"tomorrow\"] > data[\"average\"], \"movement\"] = 1\n",
    "data.loc[data[\"tomorrow\"] < data[\"average\"], \"movement\"] = -1\n",
    "\n",
    "data = data.dropna()\n",
    "data.isna().value_counts()"
   ]
  },
  {
   "cell_type": "code",
   "execution_count": 261,
   "id": "4736ff74",
   "metadata": {},
   "outputs": [],
   "source": [
    "# Default model\n",
    "from sklearn.ensemble import RandomForestClassifier"
   ]
  },
  {
   "cell_type": "code",
   "execution_count": 262,
   "id": "7b488661",
   "metadata": {},
   "outputs": [
    {
     "data": {
      "text/html": [
       "<style>#sk-container-id-9 {color: black;}#sk-container-id-9 pre{padding: 0;}#sk-container-id-9 div.sk-toggleable {background-color: white;}#sk-container-id-9 label.sk-toggleable__label {cursor: pointer;display: block;width: 100%;margin-bottom: 0;padding: 0.3em;box-sizing: border-box;text-align: center;}#sk-container-id-9 label.sk-toggleable__label-arrow:before {content: \"▸\";float: left;margin-right: 0.25em;color: #696969;}#sk-container-id-9 label.sk-toggleable__label-arrow:hover:before {color: black;}#sk-container-id-9 div.sk-estimator:hover label.sk-toggleable__label-arrow:before {color: black;}#sk-container-id-9 div.sk-toggleable__content {max-height: 0;max-width: 0;overflow: hidden;text-align: left;background-color: #f0f8ff;}#sk-container-id-9 div.sk-toggleable__content pre {margin: 0.2em;color: black;border-radius: 0.25em;background-color: #f0f8ff;}#sk-container-id-9 input.sk-toggleable__control:checked~div.sk-toggleable__content {max-height: 200px;max-width: 100%;overflow: auto;}#sk-container-id-9 input.sk-toggleable__control:checked~label.sk-toggleable__label-arrow:before {content: \"▾\";}#sk-container-id-9 div.sk-estimator input.sk-toggleable__control:checked~label.sk-toggleable__label {background-color: #d4ebff;}#sk-container-id-9 div.sk-label input.sk-toggleable__control:checked~label.sk-toggleable__label {background-color: #d4ebff;}#sk-container-id-9 input.sk-hidden--visually {border: 0;clip: rect(1px 1px 1px 1px);clip: rect(1px, 1px, 1px, 1px);height: 1px;margin: -1px;overflow: hidden;padding: 0;position: absolute;width: 1px;}#sk-container-id-9 div.sk-estimator {font-family: monospace;background-color: #f0f8ff;border: 1px dotted black;border-radius: 0.25em;box-sizing: border-box;margin-bottom: 0.5em;}#sk-container-id-9 div.sk-estimator:hover {background-color: #d4ebff;}#sk-container-id-9 div.sk-parallel-item::after {content: \"\";width: 100%;border-bottom: 1px solid gray;flex-grow: 1;}#sk-container-id-9 div.sk-label:hover label.sk-toggleable__label {background-color: #d4ebff;}#sk-container-id-9 div.sk-serial::before {content: \"\";position: absolute;border-left: 1px solid gray;box-sizing: border-box;top: 0;bottom: 0;left: 50%;z-index: 0;}#sk-container-id-9 div.sk-serial {display: flex;flex-direction: column;align-items: center;background-color: white;padding-right: 0.2em;padding-left: 0.2em;position: relative;}#sk-container-id-9 div.sk-item {position: relative;z-index: 1;}#sk-container-id-9 div.sk-parallel {display: flex;align-items: stretch;justify-content: center;background-color: white;position: relative;}#sk-container-id-9 div.sk-item::before, #sk-container-id-9 div.sk-parallel-item::before {content: \"\";position: absolute;border-left: 1px solid gray;box-sizing: border-box;top: 0;bottom: 0;left: 50%;z-index: -1;}#sk-container-id-9 div.sk-parallel-item {display: flex;flex-direction: column;z-index: 1;position: relative;background-color: white;}#sk-container-id-9 div.sk-parallel-item:first-child::after {align-self: flex-end;width: 50%;}#sk-container-id-9 div.sk-parallel-item:last-child::after {align-self: flex-start;width: 50%;}#sk-container-id-9 div.sk-parallel-item:only-child::after {width: 0;}#sk-container-id-9 div.sk-dashed-wrapped {border: 1px dashed gray;margin: 0 0.4em 0.5em 0.4em;box-sizing: border-box;padding-bottom: 0.4em;background-color: white;}#sk-container-id-9 div.sk-label label {font-family: monospace;font-weight: bold;display: inline-block;line-height: 1.2em;}#sk-container-id-9 div.sk-label-container {text-align: center;}#sk-container-id-9 div.sk-container {/* jupyter's `normalize.less` sets `[hidden] { display: none; }` but bootstrap.min.css set `[hidden] { display: none !important; }` so we also need the `!important` here to be able to override the default hidden behavior on the sphinx rendered scikit-learn.org. See: https://github.com/scikit-learn/scikit-learn/issues/21755 */display: inline-block !important;position: relative;}#sk-container-id-9 div.sk-text-repr-fallback {display: none;}</style><div id=\"sk-container-id-9\" class=\"sk-top-container\"><div class=\"sk-text-repr-fallback\"><pre>RandomForestClassifier(min_samples_split=100, random_state=1)</pre><b>In a Jupyter environment, please rerun this cell to show the HTML representation or trust the notebook. <br />On GitHub, the HTML representation is unable to render, please try loading this page with nbviewer.org.</b></div><div class=\"sk-container\" hidden><div class=\"sk-item\"><div class=\"sk-estimator sk-toggleable\"><input class=\"sk-toggleable__control sk-hidden--visually\" id=\"sk-estimator-id-9\" type=\"checkbox\" checked><label for=\"sk-estimator-id-9\" class=\"sk-toggleable__label sk-toggleable__label-arrow\">RandomForestClassifier</label><div class=\"sk-toggleable__content\"><pre>RandomForestClassifier(min_samples_split=100, random_state=1)</pre></div></div></div></div></div>"
      ],
      "text/plain": [
       "RandomForestClassifier(min_samples_split=100, random_state=1)"
      ]
     },
     "execution_count": 262,
     "metadata": {},
     "output_type": "execute_result"
    }
   ],
   "source": [
    "model = RandomForestClassifier(n_estimators=100, min_samples_split=100, random_state=1)\n",
    "\n",
    "train = data.iloc[:-100]\n",
    "test = data.iloc[-100:]\n",
    "\n",
    "predictors = [\"average\", \"highest\", \"lowest\", \"order_count\", \"volume\"]\n",
    "model.fit(train[predictors], train[\"target\"])"
   ]
  },
  {
   "cell_type": "code",
   "execution_count": 263,
   "id": "2ae4953b",
   "metadata": {},
   "outputs": [],
   "source": [
    "from sklearn.metrics import precision_score\n",
    "\n",
    "# Get our predictions\n",
    "preds = model.predict(test[predictors])\n",
    "preds = pd.Series(preds, index=test.index)\n"
   ]
  },
  {
   "cell_type": "code",
   "execution_count": 264,
   "id": "3aaa7fac",
   "metadata": {},
   "outputs": [
    {
     "data": {
      "text/plain": [
       "0.8666666666666667"
      ]
     },
     "execution_count": 264,
     "metadata": {},
     "output_type": "execute_result"
    }
   ],
   "source": [
    "# Score our model\n",
    "precision_score(test[\"target\"], preds)"
   ]
  },
  {
   "cell_type": "code",
   "execution_count": 265,
   "id": "9aa95509",
   "metadata": {},
   "outputs": [],
   "source": [
    "# Plot our predictions\n",
    "combined = pd.concat([test[\"target\"], preds], axis=1)\n",
    "# Comment in the graph\n",
    "# combined.plot()"
   ]
  },
  {
   "cell_type": "code",
   "execution_count": 266,
   "id": "3c4c2379",
   "metadata": {},
   "outputs": [],
   "source": [
    "# Start of initial backtest\n",
    "def predict(train, test, predictors, model):\n",
    "    model.fit(train[predictors], train[\"target\"])\n",
    "    preds = model.predict(test[predictors])\n",
    "    preds = pd.Series(preds, index=test.index, name=\"predictions\")\n",
    "    combined = pd.concat([test[\"target\"], preds], axis=1)\n",
    "    return combined\n",
    "    "
   ]
  },
  {
   "cell_type": "code",
   "execution_count": 267,
   "id": "2e917d72",
   "metadata": {},
   "outputs": [],
   "source": [
    "def backtest(data,model, predictors, start=100, step=2):\n",
    "    all_predictions = []\n",
    "\n",
    "    for i in range(start, data.shape[0], step):\n",
    "      train = data.iloc[0:i].copy()\n",
    "      test = data.iloc[i:(i+step)].copy()\n",
    "      predictions = predict(train, test, predictors, model)\n",
    "      all_predictions.append(predictions)\n",
    "    return pd.concat(all_predictions)"
   ]
  },
  {
   "cell_type": "code",
   "execution_count": 268,
   "id": "4037e9f8",
   "metadata": {},
   "outputs": [],
   "source": [
    "predictions = backtest(data, model, predictors)"
   ]
  },
  {
   "cell_type": "code",
   "execution_count": 269,
   "id": "941a0d20",
   "metadata": {},
   "outputs": [
    {
     "data": {
      "text/plain": [
       "predictions\n",
       "0    263\n",
       "1     40\n",
       "Name: count, dtype: int64"
      ]
     },
     "execution_count": 269,
     "metadata": {},
     "output_type": "execute_result"
    }
   ],
   "source": [
    "predictions[\"predictions\"].value_counts()"
   ]
  },
  {
   "cell_type": "code",
   "execution_count": 270,
   "id": "c746f803",
   "metadata": {},
   "outputs": [
    {
     "data": {
      "text/plain": [
       "0.6"
      ]
     },
     "execution_count": 270,
     "metadata": {},
     "output_type": "execute_result"
    }
   ],
   "source": [
    "precision_score(predictions[\"target\"], predictions[\"predictions\"])"
   ]
  },
  {
   "cell_type": "code",
   "execution_count": 271,
   "id": "ab6894e7",
   "metadata": {},
   "outputs": [
    {
     "data": {
      "text/plain": [
       "target\n",
       "0    0.50165\n",
       "1    0.49835\n",
       "Name: count, dtype: float64"
      ]
     },
     "execution_count": 271,
     "metadata": {},
     "output_type": "execute_result"
    }
   ],
   "source": [
    "predictions[\"target\"].value_counts() / predictions.shape[0]"
   ]
  },
  {
   "cell_type": "code",
   "execution_count": 272,
   "id": "3ceac141",
   "metadata": {},
   "outputs": [],
   "source": [
    "# Adding horizons to the data to help with predictions\n",
    "horizons = [2,7,14]\n",
    "new_predictors = []\n",
    "\n",
    "for horizon in horizons:\n",
    "    rolling_averages = data.rolling(horizon).mean()\n",
    "\n",
    "    ratio_column = f\"close_ratio_{horizon}\"\n",
    "    data[ratio_column] = data['average'] / rolling_averages['average']\n",
    "\n",
    "    trend_column = f\"trend_{horizon}\"\n",
    "    data[trend_column] = data.shift(1).rolling(horizon).sum()[\"movement\"]\n",
    "\n",
    "    new_predictors += [ratio_column, trend_column]"
   ]
  },
  {
   "cell_type": "code",
   "execution_count": 273,
   "id": "c8844aea",
   "metadata": {},
   "outputs": [],
   "source": [
    "# Start of model that predicts the probabilities\n",
    "model = RandomForestClassifier(n_estimators=200, min_samples_split=50, random_state=1)"
   ]
  },
  {
   "cell_type": "code",
   "execution_count": 274,
   "id": "e1b04f4b",
   "metadata": {},
   "outputs": [],
   "source": [
    "def predict(train, test, predictors, model):\n",
    "    model.fit(train[predictors], train[\"target\"])\n",
    "    preds = model.predict_proba(test[predictors])[:,1]\n",
    "    preds[preds >= .6] = 1\n",
    "    preds[preds< .6] = 0\n",
    "    preds = pd.Series(preds, index=test.index, name=\"predictions\")\n",
    "    combined = pd.concat([test[\"target\"], preds], axis=1)\n",
    "    return combined\n",
    "    "
   ]
  },
  {
   "cell_type": "code",
   "execution_count": 275,
   "id": "95b56006",
   "metadata": {},
   "outputs": [
    {
     "data": {
      "text/html": [
       "<div>\n",
       "<style scoped>\n",
       "    .dataframe tbody tr th:only-of-type {\n",
       "        vertical-align: middle;\n",
       "    }\n",
       "\n",
       "    .dataframe tbody tr th {\n",
       "        vertical-align: top;\n",
       "    }\n",
       "\n",
       "    .dataframe thead th {\n",
       "        text-align: right;\n",
       "    }\n",
       "</style>\n",
       "<table border=\"1\" class=\"dataframe\">\n",
       "  <thead>\n",
       "    <tr style=\"text-align: right;\">\n",
       "      <th></th>\n",
       "      <th>average</th>\n",
       "      <th>highest</th>\n",
       "      <th>lowest</th>\n",
       "      <th>order_count</th>\n",
       "      <th>volume</th>\n",
       "      <th>tomorrow</th>\n",
       "      <th>target</th>\n",
       "      <th>movement</th>\n",
       "      <th>close_ratio_2</th>\n",
       "      <th>trend_2</th>\n",
       "      <th>close_ratio_7</th>\n",
       "      <th>trend_7</th>\n",
       "      <th>close_ratio_14</th>\n",
       "      <th>trend_14</th>\n",
       "    </tr>\n",
       "    <tr>\n",
       "      <th>date</th>\n",
       "      <th></th>\n",
       "      <th></th>\n",
       "      <th></th>\n",
       "      <th></th>\n",
       "      <th></th>\n",
       "      <th></th>\n",
       "      <th></th>\n",
       "      <th></th>\n",
       "      <th></th>\n",
       "      <th></th>\n",
       "      <th></th>\n",
       "      <th></th>\n",
       "      <th></th>\n",
       "      <th></th>\n",
       "    </tr>\n",
       "  </thead>\n",
       "  <tbody>\n",
       "    <tr>\n",
       "      <th>2022-07-15</th>\n",
       "      <td>231000.00</td>\n",
       "      <td>231000</td>\n",
       "      <td>231000</td>\n",
       "      <td>86</td>\n",
       "      <td>112</td>\n",
       "      <td>231100.00</td>\n",
       "      <td>1</td>\n",
       "      <td>1.0</td>\n",
       "      <td>0.994147</td>\n",
       "      <td>-2.0</td>\n",
       "      <td>0.935523</td>\n",
       "      <td>-1.0</td>\n",
       "      <td>0.901016</td>\n",
       "      <td>0.0</td>\n",
       "    </tr>\n",
       "    <tr>\n",
       "      <th>2022-07-16</th>\n",
       "      <td>231100.00</td>\n",
       "      <td>275000</td>\n",
       "      <td>231000</td>\n",
       "      <td>100</td>\n",
       "      <td>120</td>\n",
       "      <td>255550.00</td>\n",
       "      <td>1</td>\n",
       "      <td>1.0</td>\n",
       "      <td>1.000216</td>\n",
       "      <td>0.0</td>\n",
       "      <td>0.997107</td>\n",
       "      <td>-1.0</td>\n",
       "      <td>0.912568</td>\n",
       "      <td>0.0</td>\n",
       "    </tr>\n",
       "    <tr>\n",
       "      <th>2022-07-17</th>\n",
       "      <td>255550.00</td>\n",
       "      <td>290000</td>\n",
       "      <td>231000</td>\n",
       "      <td>77</td>\n",
       "      <td>102</td>\n",
       "      <td>250483.52</td>\n",
       "      <td>0</td>\n",
       "      <td>-1.0</td>\n",
       "      <td>1.050241</td>\n",
       "      <td>2.0</td>\n",
       "      <td>1.086163</td>\n",
       "      <td>1.0</td>\n",
       "      <td>1.031489</td>\n",
       "      <td>0.0</td>\n",
       "    </tr>\n",
       "    <tr>\n",
       "      <th>2022-07-18</th>\n",
       "      <td>250483.52</td>\n",
       "      <td>270000</td>\n",
       "      <td>231000</td>\n",
       "      <td>56</td>\n",
       "      <td>91</td>\n",
       "      <td>231100.00</td>\n",
       "      <td>0</td>\n",
       "      <td>-1.0</td>\n",
       "      <td>0.989988</td>\n",
       "      <td>0.0</td>\n",
       "      <td>1.059139</td>\n",
       "      <td>-1.0</td>\n",
       "      <td>1.010942</td>\n",
       "      <td>0.0</td>\n",
       "    </tr>\n",
       "    <tr>\n",
       "      <th>2022-07-19</th>\n",
       "      <td>231100.00</td>\n",
       "      <td>290100</td>\n",
       "      <td>231000</td>\n",
       "      <td>82</td>\n",
       "      <td>118</td>\n",
       "      <td>232000.00</td>\n",
       "      <td>1</td>\n",
       "      <td>1.0</td>\n",
       "      <td>0.959750</td>\n",
       "      <td>-2.0</td>\n",
       "      <td>0.965696</td>\n",
       "      <td>-1.0</td>\n",
       "      <td>0.937593</td>\n",
       "      <td>0.0</td>\n",
       "    </tr>\n",
       "    <tr>\n",
       "      <th>...</th>\n",
       "      <td>...</td>\n",
       "      <td>...</td>\n",
       "      <td>...</td>\n",
       "      <td>...</td>\n",
       "      <td>...</td>\n",
       "      <td>...</td>\n",
       "      <td>...</td>\n",
       "      <td>...</td>\n",
       "      <td>...</td>\n",
       "      <td>...</td>\n",
       "      <td>...</td>\n",
       "      <td>...</td>\n",
       "      <td>...</td>\n",
       "      <td>...</td>\n",
       "    </tr>\n",
       "    <tr>\n",
       "      <th>2023-08-11</th>\n",
       "      <td>374900.00</td>\n",
       "      <td>495500</td>\n",
       "      <td>299900</td>\n",
       "      <td>106</td>\n",
       "      <td>140</td>\n",
       "      <td>393000.00</td>\n",
       "      <td>1</td>\n",
       "      <td>1.0</td>\n",
       "      <td>1.032785</td>\n",
       "      <td>0.0</td>\n",
       "      <td>0.918361</td>\n",
       "      <td>1.0</td>\n",
       "      <td>0.875478</td>\n",
       "      <td>0.0</td>\n",
       "    </tr>\n",
       "    <tr>\n",
       "      <th>2023-08-12</th>\n",
       "      <td>393000.00</td>\n",
       "      <td>509450</td>\n",
       "      <td>361200</td>\n",
       "      <td>92</td>\n",
       "      <td>122</td>\n",
       "      <td>485500.00</td>\n",
       "      <td>1</td>\n",
       "      <td>1.0</td>\n",
       "      <td>1.023571</td>\n",
       "      <td>2.0</td>\n",
       "      <td>0.975714</td>\n",
       "      <td>1.0</td>\n",
       "      <td>0.922626</td>\n",
       "      <td>2.0</td>\n",
       "    </tr>\n",
       "    <tr>\n",
       "      <th>2023-08-13</th>\n",
       "      <td>485500.00</td>\n",
       "      <td>489000</td>\n",
       "      <td>381700</td>\n",
       "      <td>86</td>\n",
       "      <td>139</td>\n",
       "      <td>381700.00</td>\n",
       "      <td>0</td>\n",
       "      <td>-1.0</td>\n",
       "      <td>1.105293</td>\n",
       "      <td>2.0</td>\n",
       "      <td>1.186165</td>\n",
       "      <td>1.0</td>\n",
       "      <td>1.129409</td>\n",
       "      <td>2.0</td>\n",
       "    </tr>\n",
       "    <tr>\n",
       "      <th>2023-08-14</th>\n",
       "      <td>381700.00</td>\n",
       "      <td>473600</td>\n",
       "      <td>380200</td>\n",
       "      <td>81</td>\n",
       "      <td>122</td>\n",
       "      <td>469900.00</td>\n",
       "      <td>1</td>\n",
       "      <td>1.0</td>\n",
       "      <td>0.880304</td>\n",
       "      <td>0.0</td>\n",
       "      <td>0.971136</td>\n",
       "      <td>-1.0</td>\n",
       "      <td>0.912317</td>\n",
       "      <td>0.0</td>\n",
       "    </tr>\n",
       "    <tr>\n",
       "      <th>2023-08-15</th>\n",
       "      <td>469900.00</td>\n",
       "      <td>469900</td>\n",
       "      <td>452500</td>\n",
       "      <td>102</td>\n",
       "      <td>212</td>\n",
       "      <td>427303.13</td>\n",
       "      <td>0</td>\n",
       "      <td>-1.0</td>\n",
       "      <td>1.103570</td>\n",
       "      <td>0.0</td>\n",
       "      <td>1.165071</td>\n",
       "      <td>1.0</td>\n",
       "      <td>1.114170</td>\n",
       "      <td>2.0</td>\n",
       "    </tr>\n",
       "  </tbody>\n",
       "</table>\n",
       "<p>389 rows × 14 columns</p>\n",
       "</div>"
      ],
      "text/plain": [
       "              average  highest  lowest  order_count  volume   tomorrow  \\\n",
       "date                                                                     \n",
       "2022-07-15  231000.00   231000  231000           86     112  231100.00   \n",
       "2022-07-16  231100.00   275000  231000          100     120  255550.00   \n",
       "2022-07-17  255550.00   290000  231000           77     102  250483.52   \n",
       "2022-07-18  250483.52   270000  231000           56      91  231100.00   \n",
       "2022-07-19  231100.00   290100  231000           82     118  232000.00   \n",
       "...               ...      ...     ...          ...     ...        ...   \n",
       "2023-08-11  374900.00   495500  299900          106     140  393000.00   \n",
       "2023-08-12  393000.00   509450  361200           92     122  485500.00   \n",
       "2023-08-13  485500.00   489000  381700           86     139  381700.00   \n",
       "2023-08-14  381700.00   473600  380200           81     122  469900.00   \n",
       "2023-08-15  469900.00   469900  452500          102     212  427303.13   \n",
       "\n",
       "            target  movement  close_ratio_2  trend_2  close_ratio_7  trend_7  \\\n",
       "date                                                                           \n",
       "2022-07-15       1       1.0       0.994147     -2.0       0.935523     -1.0   \n",
       "2022-07-16       1       1.0       1.000216      0.0       0.997107     -1.0   \n",
       "2022-07-17       0      -1.0       1.050241      2.0       1.086163      1.0   \n",
       "2022-07-18       0      -1.0       0.989988      0.0       1.059139     -1.0   \n",
       "2022-07-19       1       1.0       0.959750     -2.0       0.965696     -1.0   \n",
       "...            ...       ...            ...      ...            ...      ...   \n",
       "2023-08-11       1       1.0       1.032785      0.0       0.918361      1.0   \n",
       "2023-08-12       1       1.0       1.023571      2.0       0.975714      1.0   \n",
       "2023-08-13       0      -1.0       1.105293      2.0       1.186165      1.0   \n",
       "2023-08-14       1       1.0       0.880304      0.0       0.971136     -1.0   \n",
       "2023-08-15       0      -1.0       1.103570      0.0       1.165071      1.0   \n",
       "\n",
       "            close_ratio_14  trend_14  \n",
       "date                                  \n",
       "2022-07-15        0.901016       0.0  \n",
       "2022-07-16        0.912568       0.0  \n",
       "2022-07-17        1.031489       0.0  \n",
       "2022-07-18        1.010942       0.0  \n",
       "2022-07-19        0.937593       0.0  \n",
       "...                    ...       ...  \n",
       "2023-08-11        0.875478       0.0  \n",
       "2023-08-12        0.922626       2.0  \n",
       "2023-08-13        1.129409       2.0  \n",
       "2023-08-14        0.912317       0.0  \n",
       "2023-08-15        1.114170       2.0  \n",
       "\n",
       "[389 rows x 14 columns]"
      ]
     },
     "execution_count": 275,
     "metadata": {},
     "output_type": "execute_result"
    }
   ],
   "source": [
    "data = data.dropna()\n",
    "data"
   ]
  },
  {
   "cell_type": "code",
   "execution_count": 276,
   "id": "f638c26d",
   "metadata": {},
   "outputs": [],
   "source": [
    "predictions = backtest(data, model, new_predictors)"
   ]
  },
  {
   "cell_type": "code",
   "execution_count": 277,
   "id": "bf53ebbd",
   "metadata": {},
   "outputs": [
    {
     "data": {
      "text/plain": [
       "predictions\n",
       "0.0    205\n",
       "1.0     84\n",
       "Name: count, dtype: int64"
      ]
     },
     "execution_count": 277,
     "metadata": {},
     "output_type": "execute_result"
    }
   ],
   "source": [
    "predictions[\"predictions\"].value_counts()"
   ]
  },
  {
   "cell_type": "code",
   "execution_count": 278,
   "id": "a9527885",
   "metadata": {},
   "outputs": [
    {
     "data": {
      "text/plain": [
       "0.7619047619047619"
      ]
     },
     "execution_count": 278,
     "metadata": {},
     "output_type": "execute_result"
    }
   ],
   "source": [
    "precision_score(predictions[\"target\"], predictions[\"predictions\"])"
   ]
  },
  {
   "cell_type": "code",
   "execution_count": null,
   "id": "1432606c",
   "metadata": {},
   "outputs": [],
   "source": []
  }
 ],
 "metadata": {
  "kernelspec": {
   "display_name": "Python 3 (ipykernel)",
   "language": "python",
   "name": "python3"
  },
  "language_info": {
   "codemirror_mode": {
    "name": "ipython",
    "version": 3
   },
   "file_extension": ".py",
   "mimetype": "text/x-python",
   "name": "python",
   "nbconvert_exporter": "python",
   "pygments_lexer": "ipython3",
   "version": "3.11.2"
  }
 },
 "nbformat": 4,
 "nbformat_minor": 5
}
