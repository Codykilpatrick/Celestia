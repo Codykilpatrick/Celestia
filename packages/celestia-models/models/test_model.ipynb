{
 "cells": [
  {
   "cell_type": "code",
   "execution_count": 2,
   "id": "807f8433-47a5-40aa-a428-92c82d1dabfc",
   "metadata": {},
   "outputs": [],
   "source": [
    "import numpy as np\n",
    "import pandas as pd"
   ]
  },
  {
   "cell_type": "code",
   "execution_count": 3,
   "id": "fef1c7f9",
   "metadata": {},
   "outputs": [],
   "source": [
    "data = pd.read_csv('../data/large_skill_injector_domain.csv')"
   ]
  },
  {
   "cell_type": "code",
   "execution_count": 5,
   "id": "b33600d2",
   "metadata": {},
   "outputs": [
    {
     "data": {
      "text/html": [
       "<div>\n",
       "<style scoped>\n",
       "    .dataframe tbody tr th:only-of-type {\n",
       "        vertical-align: middle;\n",
       "    }\n",
       "\n",
       "    .dataframe tbody tr th {\n",
       "        vertical-align: top;\n",
       "    }\n",
       "\n",
       "    .dataframe thead th {\n",
       "        text-align: right;\n",
       "    }\n",
       "</style>\n",
       "<table border=\"1\" class=\"dataframe\">\n",
       "  <thead>\n",
       "    <tr style=\"text-align: right;\">\n",
       "      <th></th>\n",
       "      <th>average</th>\n",
       "      <th>date</th>\n",
       "      <th>highest</th>\n",
       "      <th>lowest</th>\n",
       "      <th>order_count</th>\n",
       "      <th>volume</th>\n",
       "    </tr>\n",
       "  </thead>\n",
       "  <tbody>\n",
       "    <tr>\n",
       "      <th>0</th>\n",
       "      <td>797900000.0</td>\n",
       "      <td>2022-07-01</td>\n",
       "      <td>804300000</td>\n",
       "      <td>793000000.0</td>\n",
       "      <td>182</td>\n",
       "      <td>217</td>\n",
       "    </tr>\n",
       "    <tr>\n",
       "      <th>1</th>\n",
       "      <td>797700000.0</td>\n",
       "      <td>2022-07-02</td>\n",
       "      <td>805450000</td>\n",
       "      <td>790000000.0</td>\n",
       "      <td>110</td>\n",
       "      <td>139</td>\n",
       "    </tr>\n",
       "    <tr>\n",
       "      <th>2</th>\n",
       "      <td>809600000.0</td>\n",
       "      <td>2022-07-03</td>\n",
       "      <td>818750000</td>\n",
       "      <td>800500000.0</td>\n",
       "      <td>98</td>\n",
       "      <td>110</td>\n",
       "    </tr>\n",
       "    <tr>\n",
       "      <th>3</th>\n",
       "      <td>824200000.0</td>\n",
       "      <td>2022-07-04</td>\n",
       "      <td>825000000</td>\n",
       "      <td>819200000.0</td>\n",
       "      <td>103</td>\n",
       "      <td>127</td>\n",
       "    </tr>\n",
       "    <tr>\n",
       "      <th>4</th>\n",
       "      <td>829700000.0</td>\n",
       "      <td>2022-07-05</td>\n",
       "      <td>833500000</td>\n",
       "      <td>826500000.0</td>\n",
       "      <td>103</td>\n",
       "      <td>132</td>\n",
       "    </tr>\n",
       "  </tbody>\n",
       "</table>\n",
       "</div>"
      ],
      "text/plain": [
       "       average        date    highest       lowest  order_count  volume\n",
       "0  797900000.0  2022-07-01  804300000  793000000.0          182     217\n",
       "1  797700000.0  2022-07-02  805450000  790000000.0          110     139\n",
       "2  809600000.0  2022-07-03  818750000  800500000.0           98     110\n",
       "3  824200000.0  2022-07-04  825000000  819200000.0          103     127\n",
       "4  829700000.0  2022-07-05  833500000  826500000.0          103     132"
      ]
     },
     "execution_count": 5,
     "metadata": {},
     "output_type": "execute_result"
    }
   ],
   "source": [
    "data.head()"
   ]
  },
  {
   "cell_type": "code",
   "execution_count": null,
   "id": "9cfbbd20",
   "metadata": {},
   "outputs": [],
   "source": []
  }
 ],
 "metadata": {
  "kernelspec": {
   "display_name": "Python 3 (ipykernel)",
   "language": "python",
   "name": "python3"
  },
  "language_info": {
   "codemirror_mode": {
    "name": "ipython",
    "version": 3
   },
   "file_extension": ".py",
   "mimetype": "text/x-python",
   "name": "python",
   "nbconvert_exporter": "python",
   "pygments_lexer": "ipython3",
   "version": "3.11.2"
  }
 },
 "nbformat": 4,
 "nbformat_minor": 5
}
